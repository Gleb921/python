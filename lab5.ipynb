{
 "cells": [
  {
   "cell_type": "code",
   "execution_count": 27,
   "id": "8684ab94-cafb-4ef0-92a0-e44e7b99d589",
   "metadata": {},
   "outputs": [
    {
     "name": "stdout",
     "output_type": "stream",
     "text": [
      "3\n"
     ]
    }
   ],
   "source": [
    "N = ord(\"H\") % 5 + 1\n",
    "print (N)"
   ]
  },
  {
   "cell_type": "code",
   "execution_count": 10,
   "id": "bc8fc7a9-7f4e-413e-bbe6-b6912af61fef",
   "metadata": {},
   "outputs": [
    {
     "data": {
      "text/html": [
       "<div>\n",
       "<style scoped>\n",
       "    .dataframe tbody tr th:only-of-type {\n",
       "        vertical-align: middle;\n",
       "    }\n",
       "\n",
       "    .dataframe tbody tr th {\n",
       "        vertical-align: top;\n",
       "    }\n",
       "\n",
       "    .dataframe thead th {\n",
       "        text-align: right;\n",
       "    }\n",
       "</style>\n",
       "<table border=\"1\" class=\"dataframe\">\n",
       "  <thead>\n",
       "    <tr style=\"text-align: right;\">\n",
       "      <th></th>\n",
       "      <th>N</th>\n",
       "      <th>file name</th>\n",
       "      <th>image size</th>\n",
       "      <th>glasses color</th>\n",
       "      <th>line width</th>\n",
       "    </tr>\n",
       "  </thead>\n",
       "  <tbody>\n",
       "    <tr>\n",
       "      <th>0</th>\n",
       "      <td>1</td>\n",
       "      <td>emma-watson2.jpg</td>\n",
       "      <td>300x300</td>\n",
       "      <td>red</td>\n",
       "      <td>2</td>\n",
       "    </tr>\n",
       "    <tr>\n",
       "      <th>1</th>\n",
       "      <td>2</td>\n",
       "      <td>emma-watson.jpg</td>\n",
       "      <td>400x400</td>\n",
       "      <td>blue</td>\n",
       "      <td>3</td>\n",
       "    </tr>\n",
       "    <tr>\n",
       "      <th>2</th>\n",
       "      <td>3</td>\n",
       "      <td>draco.jpg</td>\n",
       "      <td>700x700</td>\n",
       "      <td>cian</td>\n",
       "      <td>4</td>\n",
       "    </tr>\n",
       "    <tr>\n",
       "      <th>3</th>\n",
       "      <td>4</td>\n",
       "      <td>longbottom.jpg</td>\n",
       "      <td>600x600</td>\n",
       "      <td>magenta</td>\n",
       "      <td>5</td>\n",
       "    </tr>\n",
       "    <tr>\n",
       "      <th>4</th>\n",
       "      <td>5</td>\n",
       "      <td>ron_wesley.jpg</td>\n",
       "      <td>500x500</td>\n",
       "      <td>yellow</td>\n",
       "      <td>6</td>\n",
       "    </tr>\n",
       "  </tbody>\n",
       "</table>\n",
       "</div>"
      ],
      "text/plain": [
       "   N         file name image size glasses color  line width\n",
       "0  1  emma-watson2.jpg    300x300           red           2\n",
       "1  2   emma-watson.jpg    400x400          blue           3\n",
       "2  3         draco.jpg    700x700          cian           4\n",
       "3  4    longbottom.jpg    600x600       magenta           5\n",
       "4  5    ron_wesley.jpg    500x500        yellow           6"
      ]
     },
     "execution_count": 10,
     "metadata": {},
     "output_type": "execute_result"
    }
   ],
   "source": [
    "import pandas as pd\n",
    "\n",
    "# Завантаження даних з файлу Excel\n",
    "df = pd.read_excel('lab6.xlsx')\n",
    "\n",
    "df.head()"
   ]
  },
  {
   "cell_type": "code",
   "execution_count": 9,
   "id": "347f5a9a-689b-45fd-81b1-22dc36a54ebe",
   "metadata": {},
   "outputs": [
    {
     "name": "stdout",
     "output_type": "stream",
     "text": [
      "Collecting openpyxl\n",
      "  Downloading openpyxl-3.1.5-py2.py3-none-any.whl.metadata (2.5 kB)\n",
      "Collecting et-xmlfile (from openpyxl)\n",
      "  Downloading et_xmlfile-2.0.0-py3-none-any.whl.metadata (2.7 kB)\n",
      "Downloading openpyxl-3.1.5-py2.py3-none-any.whl (250 kB)\n",
      "Downloading et_xmlfile-2.0.0-py3-none-any.whl (18 kB)\n",
      "Installing collected packages: et-xmlfile, openpyxl\n",
      "Successfully installed et-xmlfile-2.0.0 openpyxl-3.1.5\n"
     ]
    }
   ],
   "source": [
    "!pip install openpyxl"
   ]
  },
  {
   "cell_type": "code",
   "execution_count": 47,
   "id": "b44639d3-cefc-4879-8ca5-dbb62f8ac968",
   "metadata": {},
   "outputs": [
    {
     "name": "stdout",
     "output_type": "stream",
     "text": [
      "Номер варіанту: 3\n",
      "Дані для варіанту:\n",
      "   N  file name image size glasses color  line width\n",
      "2  3  draco.jpg    700x700          cian           4\n",
      "Зображення збережено за шляхом: output_variant.jpg\n"
     ]
    }
   ],
   "source": [
    "import cv2\n",
    "import pandas as pd\n",
    "import numpy as np\n",
    "\n",
    "# Визначаємо номер варіанту\n",
    "X = 'H'  # Перша велика літера вашого імені\n",
    "N = ord(X) % 5 + 1\n",
    "print(\"Номер варіанту:\", N)\n",
    "\n",
    "# Завантаження даних з файлу Excel\n",
    "df = pd.read_excel('lab6.xlsx')\n",
    "\n",
    "# Отримання даних для варіанту\n",
    "data_variant = df.loc[df['N'] == N]\n",
    "print(\"Дані для варіанту:\")\n",
    "print(data_variant)\n",
    "\n",
    "# Функція для обробки зображення та додавання окулярів\n",
    "def process_image_from_dataframe(data_row, output_path):\n",
    "    \"\"\"\n",
    "    Обробляє зображення з додаванням окулярів, використовуючи дані з рядка датафрейму.\n",
    "    \n",
    "    Аргументи:\n",
    "        data_row (pd.Series): Рядок із датафрейму, що містить шлях до файлу, параметри кольору та товщини.\n",
    "        output_path (str): Шлях для збереження обробленого зображення.\n",
    "    \"\"\"\n",
    "    # Завантаження Haar Cascade для пошуку обличчя та очей\n",
    "    face_cascade = cv2.CascadeClassifier(cv2.data.haarcascades + 'haarcascade_frontalface_default.xml')\n",
    "    eye_cascade = cv2.CascadeClassifier(cv2.data.haarcascades + 'haarcascade_eye.xml')\n",
    "    \n",
    "    # Отримання параметрів із датафрейму\n",
    "    image_path = data_row['file name']  # Шлях до файлу\n",
    "    color_name = data_row['glasses color']  # Колір окулярів (сховище у вигляді тексту)\n",
    "    thickness = data_row['line width']  # Товщина лінії\n",
    "    \n",
    "    # Визначення кольору окулярів на основі назви\n",
    "    color_dict = {\n",
    "        'red': (0, 0, 255),\n",
    "        'blue': (255, 0, 0),\n",
    "        'cian': (255, 255, 0),\n",
    "        'magenta': (255, 0, 255),\n",
    "        'yellow': (0, 255, 255)\n",
    "    }\n",
    "    color = color_dict.get(color_name, (0, 0, 0))  # За замовчуванням чорний, якщо колір не знайдено\n",
    "\n",
    "    # Завантаження зображення\n",
    "    img = cv2.imread(image_path)\n",
    "    gray = cv2.cvtColor(img, cv2.COLOR_BGR2GRAY)\n",
    "    \n",
    "    # Знаходження обличчя\n",
    "    faces = face_cascade.detectMultiScale(gray, scaleFactor=1.1, minNeighbors=5, minSize=(100, 100))\n",
    "    \n",
    "    for (x, y, w, h) in faces:\n",
    "        # Вирізаємо обличчя та шукаємо очі\n",
    "        roi_gray = gray[y:y+h, x:x+w]\n",
    "        roi_color = img[y:y+h, x:x+w]\n",
    "        eyes = eye_cascade.detectMultiScale(roi_gray)\n",
    "        \n",
    "        # Малюємо окуляри у вигляді -0-0-\n",
    "        if len(eyes) >= 2:  # Упевнимося, що є два ока\n",
    "            eyes = sorted(eyes, key=lambda e: e[0])  # Сортуємо очі за X\n",
    "            left_eye, right_eye = eyes[:2]\n",
    "            \n",
    "            # Координати очей\n",
    "            lx, ly = x + left_eye[0] + left_eye[2] // 2, y + left_eye[1] + left_eye[3] // 2\n",
    "            rx, ry = x + right_eye[0] + right_eye[2] // 2, y + right_eye[1] + right_eye[3] // 2\n",
    "            \n",
    "            # Малюємо ліву лінзу\n",
    "            radius = max(left_eye[2], left_eye[3]) // 2\n",
    "            cv2.circle(img, (lx, ly), radius, color, thickness)\n",
    "            \n",
    "            # Малюємо праву лінзу\n",
    "            radius = max(right_eye[2], right_eye[3]) // 2\n",
    "            cv2.circle(img, (rx, ry), radius, color, thickness)\n",
    "            \n",
    "            # Малюємо перенісся\n",
    "            cv2.line(img, (lx + radius, ly), (rx - radius, ry), color, thickness)\n",
    "            \n",
    "            # Малюємо дужки окулярів\n",
    "            cv2.line(img, (lx - radius - 20, ly), (lx - radius, ly), color, thickness)\n",
    "            cv2.line(img, (rx + radius, ry), (rx + radius + 20, ry), color, thickness)\n",
    "    \n",
    "    # Зменшення розміру зображення\n",
    "    face_center = img[y:y+h, x:x+w]  # Вирізаємо обличчя\n",
    "    reduced_img = cv2.resize(face_center, (600, 600))  # Зменшуємо до розміру 600x600\n",
    "\n",
    "    # Збереження обробленого зображення\n",
    "    cv2.imwrite(output_path, reduced_img)\n",
    "    print(f\"Зображення збережено за шляхом: {output_path}\")\n",
    "\n",
    "\n",
    "# Виклик функції для обробки зображення для вашого варіанту\n",
    "output_path = 'output_variant.jpg'\n",
    "process_image_from_dataframe(data_variant.iloc[0], output_path)"
   ]
  },
  {
   "cell_type": "code",
   "execution_count": 40,
   "id": "78348537-4a1a-4a69-b78b-947ea0cb976d",
   "metadata": {},
   "outputs": [
    {
     "name": "stdout",
     "output_type": "stream",
     "text": [
      "Requirement already satisfied: opencv-python in c:\\users\\gleba\\anaconda3\\envs\\basee\\lib\\site-packages (4.10.0.84)\n",
      "Requirement already satisfied: numpy>=1.21.2 in c:\\users\\gleba\\anaconda3\\envs\\basee\\lib\\site-packages (from opencv-python) (2.1.3)\n"
     ]
    }
   ],
   "source": [
    "!pip install opencv-python"
   ]
  },
  {
   "cell_type": "code",
   "execution_count": null,
   "id": "86c0dc81-664c-4cf0-82b3-60e3498f5ce4",
   "metadata": {},
   "outputs": [],
   "source": []
  },
  {
   "cell_type": "code",
   "execution_count": null,
   "id": "6291867a-2d4f-48f5-a30c-5e93ccc321b0",
   "metadata": {},
   "outputs": [],
   "source": []
  },
  {
   "cell_type": "code",
   "execution_count": null,
   "id": "7c8d3655-76d0-414a-8d7d-6ca103c8a8cf",
   "metadata": {},
   "outputs": [],
   "source": []
  },
  {
   "cell_type": "code",
   "execution_count": null,
   "id": "36a1fb21-cfad-4b0a-88e2-2aef30f784e0",
   "metadata": {},
   "outputs": [],
   "source": []
  },
  {
   "cell_type": "code",
   "execution_count": null,
   "id": "085d61f3-b4b7-4f59-abea-a151bac775a3",
   "metadata": {},
   "outputs": [],
   "source": []
  }
 ],
 "metadata": {
  "kernelspec": {
   "display_name": "Python 3 (ipykernel)",
   "language": "python",
   "name": "python3"
  },
  "language_info": {
   "codemirror_mode": {
    "name": "ipython",
    "version": 3
   },
   "file_extension": ".py",
   "mimetype": "text/x-python",
   "name": "python",
   "nbconvert_exporter": "python",
   "pygments_lexer": "ipython3",
   "version": "3.12.7"
  }
 },
 "nbformat": 4,
 "nbformat_minor": 5
}
